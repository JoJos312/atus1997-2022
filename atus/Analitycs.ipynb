{
 "cells": [
  {
   "cell_type": "code",
   "execution_count": null,
   "metadata": {},
   "outputs": [],
   "source": [
    "import pandas as pd\n",
    "\n",
    "df2020 = pd.read_csv(\"../input/atus_anual_2020.csv\", index_col = False)\n",
    "df2021 = pd.read_csv(\"../input/atus_anual_2021.csv\", index_col = False)\n",
    "df2022 = pd.read_csv(\"../input/atus_anual_2022.csv\", index_col = False)\n",
    "\n",
    "\n",
    "df=pd.concat([df2020,df2021,df2022],ignore_index=True)\n",
    "\n",
    "df.info()\n",
    "df.head()\n"
   ]
  },
  {
   "cell_type": "code",
   "execution_count": null,
   "metadata": {},
   "outputs": [],
   "source": [
    "df['FECHA'] = df.apply(lambda row: f\"{row['ANIO']}-{row['MES']}-{row['ID_DIA']} {row['ID_HORA']}:{row['ID_MINUTO']}\", axis=1)\n",
    "\n",
    "df['FECHA'] = pd.to_datetime(df['FECHA'], format='%Y-%m-%d %H:%M')\n",
    "\n",
    "print(df.head())"
   ]
  },
  {
   "cell_type": "code",
   "execution_count": null,
   "metadata": {},
   "outputs": [],
   "source": [
    "def detArea(row):\n",
    "    if row['SUBURBANA'] != 'Sin accidente en esta zona':\n",
    "        return 'SUBURBANA'\n",
    "    else:\n",
    "        return 'URBANA'\n",
    "    \n",
    "\n",
    "df['AREA']= df.apply(detArea,axis=1)\n",
    "\n",
    "df[df['AREA']=='SUBURBANA']\n",
    "\n"
   ]
  },
  {
   "cell_type": "code",
   "execution_count": null,
   "metadata": {},
   "outputs": [],
   "source": [
    "def detZona(row):\n",
    "    if row['AREA']=='URBANA':\n",
    "        return row['URBANA']\n",
    "    else:\n",
    "         return row['SUBURBANA']\n",
    "    \n",
    "df['ZONA']= df.apply(detZona,axis=1)  \n",
    "\n",
    "print(df)\n"
   ]
  },
  {
   "cell_type": "code",
   "execution_count": null,
   "metadata": {},
   "outputs": [],
   "source": [
    "df.drop(columns=['URBANA', 'SUBURBANA'], inplace=True)\n",
    "print(df.head())"
   ]
  },
  {
   "cell_type": "code",
   "execution_count": null,
   "metadata": {},
   "outputs": [],
   "source": [
    "df['AccidentesPorMes'] = df[['AUTOMOVIL', 'CAMPASAJ', 'MICROBUS', 'PASCAMION', 'OMNIBUS', 'TRANVIA',\n",
    "                                       'CAMIONETA', 'CAMION', 'TRACTOR', 'FERROCARRI', 'MOTOCICLET', 'BICICLETA',\n",
    "                                       'OTROVEHIC']].sum() \n",
    "accidentes=df.groupby(['ID_ENTIDAD','ID_MUNICIPIO','ANIO'])['MES'].value_counts().reset_index() \n",
    "accidentesMes = accidentes.loc[accidentes.groupby('ID_ENTIDAD')['count'].idxmin()]\n",
    "accidentesMes.sort_index() \n",
    "accidentesMes "
   ]
  },
  {
   "cell_type": "code",
   "execution_count": null,
   "metadata": {},
   "outputs": [],
   "source": [
    "tipo_accidente_counts = df2022['TIPACCID'].value_counts().reset_index()\n",
    "tipo_accidente_counts.columns = ['Tipo de Accidente', 'Count']\n",
    "\n",
    "total_accidentes = tipo_accidente_counts['Count'].sum()\n",
    "tipo_accidente_counts['Porcentaje sobre el Total'] = (tipo_accidente_counts['Count'] / total_accidentes) * 100\n",
    "print(tipo_accidente_counts)"
   ]
  },
  {
   "cell_type": "code",
   "execution_count": 21,
   "metadata": {},
   "outputs": [
    {
     "name": "stdout",
     "output_type": "stream",
     "text": [
      "Cantidad de muertos en los últimos 3 años: 3270\n",
      "Cantidad de heridos en los últimos 3 años: 39686\n"
     ]
    }
   ],
   "source": [
    "total_muertos = df['PEATMUERTO'].sum()+df['CICLMUERTO'].sum()+df['OTROMUERTO'].sum()+df['NEMUERTO'].sum()\n",
    "total_lesionados =df['PEATHERIDO'].sum()+df['CICLHERIDO'].sum()+df['OTROHERIDO'].sum()+df['NEHERIDO'].sum()\n",
    "\n",
    "print(\"Cantidad de muertos en los últimos 3 años:\", total_muertos)\n",
    "print(\"Cantidad de heridos en los últimos 3 años:\", total_lesionados)"
   ]
  },
  {
   "cell_type": "code",
   "execution_count": null,
   "metadata": {},
   "outputs": [],
   "source": [
    "df['FECHA'] = pd.to_datetime(df['FECHA'])\n",
    "\n",
    "df['AÑO'] = df['FECHA'].dt.year\n",
    "\n",
    "\n",
    "total_accidentes_por_año = df['AÑO'].value_counts().reset_index()\n",
    "total_accidentes_por_año.columns = ['AÑO', 'Total_Accidentes']\n",
    "\n",
    "total_accidentes_por_año['Porcentaje'] = (total_accidentes_por_año['Total_Accidentes'] / total_accidentes_por_año['Total_Accidentes'].sum()) * 100\n",
    "\n",
    "datos = df.drop('AÑO', axis = 1)\n",
    "print(total_accidentes_por_año)"
   ]
  }
 ],
 "metadata": {
  "kernelspec": {
   "display_name": "Python 3",
   "language": "python",
   "name": "python3"
  },
  "language_info": {
   "codemirror_mode": {
    "name": "ipython",
    "version": 3
   },
   "file_extension": ".py",
   "mimetype": "text/x-python",
   "name": "python",
   "nbconvert_exporter": "python",
   "pygments_lexer": "ipython3",
   "version": "3.10.13"
  }
 },
 "nbformat": 4,
 "nbformat_minor": 2
}
